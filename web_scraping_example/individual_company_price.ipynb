{
 "cells": [
  {
   "cell_type": "markdown",
   "metadata": {},
   "source": [
    "### Collect the price of a company over the specific period"
   ]
  },
  {
   "cell_type": "code",
   "execution_count": 1,
   "metadata": {},
   "outputs": [],
   "source": [
    "# collect price of samsung electronics\n",
    "\n",
    "\n",
    "# price sources from naver finance\n",
    "# 1 https://fchart.stock.naver.com/sise.nhn?symbol=005930&timeframe=day&count=1500&requestType=0\n",
    "# 2  https://api.finance.naver.com/siseJson.naver?symbol=005930&requestType=1&startTime=20210214&endTime=20210726&timeframe=day\n",
    "\n",
    "\n"
   ]
  },
  {
   "cell_type": "code",
   "execution_count": 2,
   "metadata": {},
   "outputs": [],
   "source": [
    "import requests\n",
    "from bs4 import BeautifulSoup\n",
    "import pandas as pd\n",
    "import datetime\n",
    "from dateutil.relativedelta import relativedelta\n",
    "import re\n",
    "import io\n",
    "from scraper import get_ticker\n"
   ]
  },
  {
   "cell_type": "code",
   "execution_count": 3,
   "metadata": {},
   "outputs": [],
   "source": [
    "def parse_number(string, type):\n",
    "    try:\n",
    "        number = type(re.search('[\\d.]+', string)[0])\n",
    "        return number\n",
    "    except Exception as e:\n",
    "        print(\"error occurred in parse_number: \", e)\n",
    "        return string"
   ]
  },
  {
   "cell_type": "code",
   "execution_count": 4,
   "metadata": {},
   "outputs": [],
   "source": [
    "def get_price_history(company_name):\n",
    "    ''' \n",
    "    given company name, return pd.DataFrame composed of stock price history\n",
    "    column='종가', index='날짜'\n",
    "    '''\n",
    "    company_name = '삼성전자'\n",
    "\n",
    "    # url for getting price history\n",
    "    ticker = get_ticker(company_name)\n",
    "    today = datetime.datetime.today()\n",
    "    five_yrs_ago = datetime.datetime.today() - relativedelta(years=5)\n",
    "    startTime = five_yrs_ago.strftime('%Y%m%d')\n",
    "    endTime = today.strftime('%Y%m%d')   #YYYYMMDD\n",
    "    timeframe = 'day'\n",
    "    url = 'https://api.finance.naver.com/siseJson.naver?symbol='+ticker+'&requestType=1&startTime='+startTime+'&endTime='+endTime+'&timeframe='+timeframe\n",
    "\n",
    "    # get data from url\n",
    "    req = requests.get(url)\n",
    "    soup = BeautifulSoup(req.content, 'html.parser')\n",
    "\n",
    "    # convert string into a pandas dataframe using pd.read_csv\n",
    "    data_string = io.StringIO(soup.text)\n",
    "    df = pd.read_csv(data_string)\n",
    "\n",
    "    # Data Cleansing\n",
    "\n",
    "    # drop rows and columns with NaN\n",
    "    df = df.dropna(thresh = 3,axis=1)\n",
    "    df = df.dropna(thresh = 3, axis=0)\n",
    "\n",
    "    # clean column names (remove trash char)\n",
    "    for _column in df.columns:\n",
    "        df = df.rename(columns={_column: _column.replace('[','').replace(']','').replace(\"'\",\"\").replace(' ','')})    \n",
    "\n",
    "    # clean '날짜' column\n",
    "    for index,_ in enumerate(df['날짜']):\n",
    "        _dateint = parse_number(str(df.loc[index, '날짜']), int)\n",
    "        df.loc[index, '날짜'] = datetime.datetime.strptime(f'{_dateint}', '%Y%m%d').date()\n",
    "\n",
    "    # clean '외국인소진율' column\n",
    "    for index,_ in enumerate(df['외국인소진율']):\n",
    "        df.loc[index, '외국인소진율'] = parse_number(str(df.loc[index, '외국인소진율']), float)\n",
    "\n",
    "    # change data type from float to int\n",
    "    df[['시가', '고가', '저가', '종가', '거래량']] = df[['시가', '고가', '저가', '종가', '거래량']].astype(int)\n",
    "\n",
    "    df_price = df[['날짜','종가']]\n",
    "    df_price = df_price.set_index('날짜',drop=True)\n",
    "\n",
    "    return df_price"
   ]
  },
  {
   "cell_type": "markdown",
   "metadata": {},
   "source": [
    "### Data Cleansing"
   ]
  },
  {
   "cell_type": "code",
   "execution_count": 5,
   "metadata": {},
   "outputs": [],
   "source": [
    "company_name = '삼성전자'\n",
    "df_price = get_price_history(company_name)"
   ]
  },
  {
   "cell_type": "code",
   "execution_count": 6,
   "metadata": {},
   "outputs": [
    {
     "data": {
      "text/plain": [
       "<AxesSubplot:xlabel='날짜', ylabel='종가'>"
      ]
     },
     "execution_count": 6,
     "metadata": {},
     "output_type": "execute_result"
    },
    {
     "data": {
      "image/png": "[encoded data removed]",
      "text/plain": [
       "<Figure size 432x288 with 1 Axes>"
      ]
     },
     "metadata": {
      "needs_background": "light"
     },
     "output_type": "display_data"
    }
   ],
   "source": [
    "import matplotlib as mat\n",
    "mat.rcParams['font.family'] = 'Malgun Gothic'\n",
    "\n",
    "df_price['종가'].plot(ylabel='종가')"
   ]
  },
  {
   "cell_type": "code",
   "execution_count": 7,
   "metadata": {},
   "outputs": [],
   "source": [
    "df_price.to_csv(f'price_history/{company_name}_price.csv')"
   ]
  },
  {
   "cell_type": "code",
   "execution_count": null,
   "metadata": {},
   "outputs": [],
   "source": []
  },
  {
   "cell_type": "code",
   "execution_count": 12,
   "metadata": {},
   "outputs": [],
   "source": [
    "# df = pd.read_csv('price_history/삼성전자_price.csv', index_col='날짜')"
   ]
  },
  {
   "cell_type": "code",
   "execution_count": null,
   "metadata": {},
   "outputs": [],
   "source": []
  }
 ],
 "metadata": {
  "interpreter": {
   "hash": "712258c2162786b7ace3ec8ef4f42a777694f55820ab1349d04edc2904403480"
  },
  "kernelspec": {
   "display_name": "Python 3.8.5 64-bit ('base': conda)",
   "language": "python",
   "name": "python3"
  },
  "language_info": {
   "codemirror_mode": {
    "name": "ipython",
    "version": 3
   },
   "file_extension": ".py",
   "mimetype": "text/x-python",
   "name": "python",
   "nbconvert_exporter": "python",
   "pygments_lexer": "ipython3",
   "version": "3.8.5"
  },
  "orig_nbformat": 4
 },
 "nbformat": 4,
 "nbformat_minor": 2
}
